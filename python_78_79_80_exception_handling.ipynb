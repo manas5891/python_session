{
 "cells": [
  {
   "cell_type": "code",
   "execution_count": 2,
   "id": "25ce92c8",
   "metadata": {},
   "outputs": [],
   "source": [
    "#Excption handling\n",
    "a = 10"
   ]
  },
  {
   "cell_type": "code",
   "execution_count": 4,
   "id": "d1a9ef72",
   "metadata": {},
   "outputs": [
    {
     "name": "stdout",
     "output_type": "stream",
     "text": [
      "there is some exception\n",
      "this is my normal code\n"
     ]
    }
   ],
   "source": [
    "try:\n",
    "    f = open(\"abc.txt\", \"r\")\n",
    "    f.write(\"asdf\")\n",
    "except:\n",
    "    print(\"there is some exception\")\n",
    "print(\"this is my normal code\")\n",
    "    "
   ]
  },
  {
   "cell_type": "code",
   "execution_count": 5,
   "id": "1dac024f",
   "metadata": {},
   "outputs": [
    {
     "name": "stdout",
     "output_type": "stream",
     "text": [
      "there is some exception [Errno 2] No such file or directory: 'abc.txt'\n",
      "this is my normal code\n"
     ]
    }
   ],
   "source": [
    "try:\n",
    "    f = open(\"abc.txt\", \"r\")\n",
    "    f.write(\"asdf\")\n",
    "except Exception as e :\n",
    "    print(\"there is some exception\", e)\n",
    "print(\"this is my normal code\")"
   ]
  },
  {
   "cell_type": "code",
   "execution_count": 6,
   "id": "78686383",
   "metadata": {},
   "outputs": [
    {
     "name": "stdout",
     "output_type": "stream",
     "text": [
      "asdf\n",
      "invalid literal for int() with base 10: 'asdf'\n"
     ]
    }
   ],
   "source": [
    "try:\n",
    "    a = int(input())\n",
    "    b = int(input())\n",
    "except Exception as e:\n",
    "    print(e)"
   ]
  },
  {
   "cell_type": "code",
   "execution_count": 7,
   "id": "a0ad493a",
   "metadata": {},
   "outputs": [
    {
     "name": "stdout",
     "output_type": "stream",
     "text": [
      "this is else block\n"
     ]
    }
   ],
   "source": [
    "try:\n",
    "    f = open(\"testasdf.txt\",\"w\")\n",
    "    f.write(\"asdfasdf\")\n",
    "except Exception as e :\n",
    "    print(e)\n",
    "else :\n",
    "    print(\"this is else block\")\n",
    "    f.close()\n"
   ]
  },
  {
   "cell_type": "code",
   "execution_count": 8,
   "id": "7d0e3d10",
   "metadata": {},
   "outputs": [],
   "source": [
    "# else block will excecute only if try block executed successfully"
   ]
  },
  {
   "cell_type": "code",
   "execution_count": 9,
   "id": "44d10aa6",
   "metadata": {},
   "outputs": [
    {
     "name": "stdout",
     "output_type": "stream",
     "text": [
      "[Errno 2] No such file or directory: 'asf.txt'\n",
      "in finally\n"
     ]
    }
   ],
   "source": [
    "try:\n",
    "    f = open(\"asf.txt\", \"r\")\n",
    "except Exception as e:\n",
    "    print(e)\n",
    "finally :\n",
    "    print(\"in finally\")"
   ]
  },
  {
   "cell_type": "code",
   "execution_count": 10,
   "id": "e2de2076",
   "metadata": {},
   "outputs": [
    {
     "name": "stdout",
     "output_type": "stream",
     "text": [
      "inside else\n",
      "in finally\n"
     ]
    }
   ],
   "source": [
    "try:\n",
    "    f = open(\"asf.txt\", \"w\")\n",
    "except Exception as e:\n",
    "    print(e)\n",
    "else:\n",
    "    print(\"inside else\")\n",
    "finally :\n",
    "    print(\"in finally\")"
   ]
  },
  {
   "cell_type": "code",
   "execution_count": 12,
   "id": "57eefcb0",
   "metadata": {},
   "outputs": [
    {
     "ename": "Exception",
     "evalue": "-1 is less than 0",
     "output_type": "error",
     "traceback": [
      "\u001b[1;31m---------------------------------------------------------------------------\u001b[0m",
      "\u001b[1;31mException\u001b[0m                                 Traceback (most recent call last)",
      "\u001b[1;32m~\\AppData\\Local\\Temp\\ipykernel_30936\\2224057531.py\u001b[0m in \u001b[0;36m<module>\u001b[1;34m\u001b[0m\n\u001b[0;32m      5\u001b[0m     \u001b[1;32mreturn\u001b[0m \u001b[0ma\u001b[0m\u001b[1;33m\u001b[0m\u001b[1;33m\u001b[0m\u001b[0m\n\u001b[0;32m      6\u001b[0m \u001b[1;33m\u001b[0m\u001b[0m\n\u001b[1;32m----> 7\u001b[1;33m \u001b[0mtest\u001b[0m\u001b[1;33m(\u001b[0m\u001b[1;33m-\u001b[0m\u001b[1;36m1\u001b[0m\u001b[1;33m)\u001b[0m\u001b[1;33m\u001b[0m\u001b[1;33m\u001b[0m\u001b[0m\n\u001b[0m",
      "\u001b[1;32m~\\AppData\\Local\\Temp\\ipykernel_30936\\2224057531.py\u001b[0m in \u001b[0;36mtest\u001b[1;34m(a)\u001b[0m\n\u001b[0;32m      2\u001b[0m \u001b[1;32mdef\u001b[0m \u001b[0mtest\u001b[0m\u001b[1;33m(\u001b[0m\u001b[0ma\u001b[0m\u001b[1;33m)\u001b[0m\u001b[1;33m:\u001b[0m\u001b[1;33m\u001b[0m\u001b[1;33m\u001b[0m\u001b[0m\n\u001b[0;32m      3\u001b[0m     \u001b[1;32mif\u001b[0m \u001b[0ma\u001b[0m \u001b[1;33m<\u001b[0m \u001b[1;36m0\u001b[0m\u001b[1;33m:\u001b[0m\u001b[1;33m\u001b[0m\u001b[1;33m\u001b[0m\u001b[0m\n\u001b[1;32m----> 4\u001b[1;33m         \u001b[1;32mraise\u001b[0m \u001b[0mException\u001b[0m\u001b[1;33m(\u001b[0m\u001b[1;34mf'{a} is less than 0'\u001b[0m\u001b[1;33m)\u001b[0m\u001b[1;33m\u001b[0m\u001b[1;33m\u001b[0m\u001b[0m\n\u001b[0m\u001b[0;32m      5\u001b[0m     \u001b[1;32mreturn\u001b[0m \u001b[0ma\u001b[0m\u001b[1;33m\u001b[0m\u001b[1;33m\u001b[0m\u001b[0m\n\u001b[0;32m      6\u001b[0m \u001b[1;33m\u001b[0m\u001b[0m\n",
      "\u001b[1;31mException\u001b[0m: -1 is less than 0"
     ]
    }
   ],
   "source": [
    "# Raise an exception\n",
    "def test(a):\n",
    "    if a < 0:\n",
    "        raise Exception(f'{a} is less than 0')\n",
    "    return a\n",
    "\n",
    "test(-1)"
   ]
  },
  {
   "cell_type": "code",
   "execution_count": null,
   "id": "a91ad7b9",
   "metadata": {},
   "outputs": [],
   "source": []
  }
 ],
 "metadata": {
  "kernelspec": {
   "display_name": "Python 3 (ipykernel)",
   "language": "python",
   "name": "python3"
  },
  "language_info": {
   "codemirror_mode": {
    "name": "ipython",
    "version": 3
   },
   "file_extension": ".py",
   "mimetype": "text/x-python",
   "name": "python",
   "nbconvert_exporter": "python",
   "pygments_lexer": "ipython3",
   "version": "3.8.16"
  }
 },
 "nbformat": 4,
 "nbformat_minor": 5
}
