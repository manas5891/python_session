{
 "cells": [
  {
   "cell_type": "code",
   "execution_count": 1,
   "id": "77488993",
   "metadata": {},
   "outputs": [
    {
     "name": "stdout",
     "output_type": "stream",
     "text": [
      "asdf\n"
     ]
    }
   ],
   "source": [
    "print(\"asdf\")"
   ]
  },
  {
   "cell_type": "code",
   "execution_count": 2,
   "id": "ef75d1c3",
   "metadata": {},
   "outputs": [],
   "source": [
    "import logging"
   ]
  },
  {
   "cell_type": "code",
   "execution_count": 3,
   "id": "e6d02a02",
   "metadata": {},
   "outputs": [],
   "source": [
    "logging.basicConfig(filename = \"test.log\")"
   ]
  },
  {
   "cell_type": "markdown",
   "id": "f51e1f5d",
   "metadata": {},
   "source": [
    "DEBUG\n",
    "INFO\n",
    "WARNING\n",
    "ERROR\n",
    "CRITICAL"
   ]
  },
  {
   "cell_type": "code",
   "execution_count": 5,
   "id": "bb959712",
   "metadata": {},
   "outputs": [],
   "source": [
    "logging.info(\"this is first logging\")\n",
    "logging.warning(\"this is warning\")\n",
    "logging.error(\"this is error log\")"
   ]
  },
  {
   "cell_type": "code",
   "execution_count": 6,
   "id": "7c4deba8",
   "metadata": {},
   "outputs": [],
   "source": []
  },
  {
   "cell_type": "code",
   "execution_count": 8,
   "id": "229a7d7f",
   "metadata": {},
   "outputs": [],
   "source": [
    "logging.basicConfig(filename = \"test.log\", level = logging.INFO)\n",
    "logging.info(\"now info log will log\")"
   ]
  },
  {
   "cell_type": "code",
   "execution_count": 3,
   "id": "5a477c41",
   "metadata": {},
   "outputs": [],
   "source": [
    "logging.basicConfig(filename= \"test3.log\", level = logging.INFO, format= '%(asctime)s %(message)s')\n",
    "logging.info(\"test debug log\")"
   ]
  },
  {
   "cell_type": "code",
   "execution_count": 4,
   "id": "3f921632",
   "metadata": {},
   "outputs": [],
   "source": [
    "logging.basicConfig(filename= \"test3.log\", level = logging.INFO, format= '%(asctime)s %(levelname)s %(message)s')\n",
    "logging.info(\"test debug log\")"
   ]
  },
  {
   "cell_type": "markdown",
   "id": "9e4c58ca",
   "metadata": {},
   "source": [
    "# priority\n",
    "ERROR\n",
    "WARNING\n",
    "INFO\n",
    "DEBUG"
   ]
  },
  {
   "cell_type": "code",
   "execution_count": null,
   "id": "b9ba4405",
   "metadata": {},
   "outputs": [],
   "source": []
  }
 ],
 "metadata": {
  "kernelspec": {
   "display_name": "Python 3 (ipykernel)",
   "language": "python",
   "name": "python3"
  },
  "language_info": {
   "codemirror_mode": {
    "name": "ipython",
    "version": 3
   },
   "file_extension": ".py",
   "mimetype": "text/x-python",
   "name": "python",
   "nbconvert_exporter": "python",
   "pygments_lexer": "ipython3",
   "version": "3.8.16"
  }
 },
 "nbformat": 4,
 "nbformat_minor": 5
}
