{
 "cells": [
  {
   "cell_type": "code",
   "execution_count": 1,
   "id": "c01c5c61",
   "metadata": {},
   "outputs": [
    {
     "data": {
      "text/plain": [
       "28"
      ]
     },
     "execution_count": 1,
     "metadata": {},
     "output_type": "execute_result"
    }
   ],
   "source": [
    "s = \"This is a basic python class\"\n",
    "len(s)"
   ]
  },
  {
   "cell_type": "code",
   "execution_count": 2,
   "id": "984343dc",
   "metadata": {},
   "outputs": [
    {
     "name": "stdout",
     "output_type": "stream",
     "text": [
      "28\n"
     ]
    }
   ],
   "source": [
    "count = 0\n",
    "for i in s:\n",
    "    count += 1\n",
    "print(count)"
   ]
  },
  {
   "cell_type": "code",
   "execution_count": 3,
   "id": "c7913047",
   "metadata": {},
   "outputs": [
    {
     "name": "stdout",
     "output_type": "stream",
     "text": [
      "i is vowel\n",
      "n is not vowel\n",
      "e is vowel\n",
      "u is vowel\n",
      "r is not vowel\n",
      "o is vowel\n",
      "n is not vowel\n"
     ]
    }
   ],
   "source": [
    "# Using while loop find out which character is Vowel and which are not\n",
    "s = \"ineuron\"\n",
    "v = \"AEIOUaeiou\"\n",
    "\n",
    "for i in s:\n",
    "    if i in v:\n",
    "        print(f'{i} is vowel')\n",
    "    else:\n",
    "        print(f'{i} is not vowel')"
   ]
  },
  {
   "cell_type": "code",
   "execution_count": 5,
   "id": "700e77ad",
   "metadata": {},
   "outputs": [
    {
     "name": "stdout",
     "output_type": "stream",
     "text": [
      "malayalam1 is not a pallidrome\n"
     ]
    }
   ],
   "source": [
    "# check if a string is pallindrome\n",
    "s = \"malayalam1\"\n",
    "i = 0\n",
    "j = len(s)-1\n",
    "isPallindrome = True\n",
    "while(i<j):\n",
    "    if(s[i] != s[j]):\n",
    "        isPallindrome = False\n",
    "        break;\n",
    "    i += 1\n",
    "    j -= 1\n",
    "if isPallindrome:\n",
    "    print(f'{s} is pallindrome')\n",
    "else: \n",
    "    print(f'{s} is not a pallidrome')\n",
    "    \n"
   ]
  },
  {
   "cell_type": "code",
   "execution_count": 6,
   "id": "ebec1a9d",
   "metadata": {},
   "outputs": [
    {
     "data": {
      "text/plain": [
       "True"
      ]
     },
     "execution_count": 6,
     "metadata": {},
     "output_type": "execute_result"
    }
   ],
   "source": [
    "# now checking an element in dictionalry\n",
    "d = {\"india\": \" countyr\"}\n",
    "\"india\" in d"
   ]
  },
  {
   "cell_type": "code",
   "execution_count": null,
   "id": "d535f4b1",
   "metadata": {},
   "outputs": [],
   "source": []
  }
 ],
 "metadata": {
  "kernelspec": {
   "display_name": "Python 3 (ipykernel)",
   "language": "python",
   "name": "python3"
  },
  "language_info": {
   "codemirror_mode": {
    "name": "ipython",
    "version": 3
   },
   "file_extension": ".py",
   "mimetype": "text/x-python",
   "name": "python",
   "nbconvert_exporter": "python",
   "pygments_lexer": "ipython3",
   "version": "3.8.16"
  }
 },
 "nbformat": 4,
 "nbformat_minor": 5
}
