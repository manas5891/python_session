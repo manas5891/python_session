{
 "cells": [
  {
   "cell_type": "code",
   "execution_count": 2,
   "id": "a9fefeee",
   "metadata": {},
   "outputs": [],
   "source": [
    "class car:\n",
    "    pass"
   ]
  },
  {
   "cell_type": "code",
   "execution_count": 17,
   "id": "62b801f3",
   "metadata": {},
   "outputs": [],
   "source": [
    "class car:\n",
    "    abc = 0\n",
    "    def __init__(self, brand_name, fueltype, body_type):\n",
    "        self.brand_name = brand_name\n",
    "        self.fueltype = fueltype\n",
    "        self.body_type = body_type\n",
    "    \n",
    "    def desc_car(n):\n",
    "        print(n.brand_name, n.fueltype, n.body_type)\n",
    "\n",
    "\n",
    "innova = car(\"innova\",\"petrol\",\"suv\")"
   ]
  },
  {
   "cell_type": "code",
   "execution_count": 18,
   "id": "64370038",
   "metadata": {},
   "outputs": [
    {
     "name": "stdout",
     "output_type": "stream",
     "text": [
      "innova petrol suv\n"
     ]
    }
   ],
   "source": [
    "innova.desc_car()"
   ]
  },
  {
   "cell_type": "code",
   "execution_count": 13,
   "id": "fc07c4f3",
   "metadata": {},
   "outputs": [],
   "source": [
    "nexon = car(\"tata\",\"pertrol\",\"min suv\")\n",
    "fortuner = car(\"toyota\",\"disel\",\"suv\")\n"
   ]
  },
  {
   "cell_type": "code",
   "execution_count": 19,
   "id": "180bfefa",
   "metadata": {},
   "outputs": [
    {
     "data": {
      "text/plain": [
       "0"
      ]
     },
     "execution_count": 19,
     "metadata": {},
     "output_type": "execute_result"
    }
   ],
   "source": [
    "innova.abc"
   ]
  },
  {
   "cell_type": "code",
   "execution_count": 20,
   "id": "0656016f",
   "metadata": {},
   "outputs": [],
   "source": [
    "# inheritence\n"
   ]
  },
  {
   "cell_type": "code",
   "execution_count": 23,
   "id": "c308effd",
   "metadata": {},
   "outputs": [],
   "source": [
    "class xyz:\n",
    "    def __init__(self, a, b, c):\n",
    "        self.a = a\n",
    "        self.b = b\n",
    "        self.c = c\n",
    "    def test(self):\n",
    "        print(\"this is my first test method of xyz class\")\n",
    "    \n",
    "    def test1(self):\n",
    "        print(\"this is my test1 method of xyz class\")\n",
    "    \n",
    "    def test2(self):\n",
    "        print(\"this is my test2 method of xyz class\")\n",
    "        \n",
    "\n",
    "        \n",
    "    "
   ]
  },
  {
   "cell_type": "code",
   "execution_count": 24,
   "id": "f52cfd34",
   "metadata": {},
   "outputs": [],
   "source": [
    "p = xyz(1,2,3)"
   ]
  },
  {
   "cell_type": "code",
   "execution_count": 25,
   "id": "3530dc29",
   "metadata": {},
   "outputs": [
    {
     "name": "stdout",
     "output_type": "stream",
     "text": [
      "this is my test1 method of xyz class\n"
     ]
    }
   ],
   "source": [
    "p.test1()"
   ]
  },
  {
   "cell_type": "code",
   "execution_count": 22,
   "id": "11856f2d",
   "metadata": {},
   "outputs": [],
   "source": [
    "class xyz1(xyz):\n",
    "    pass\n",
    "    "
   ]
  },
  {
   "cell_type": "code",
   "execution_count": 26,
   "id": "ea66f155",
   "metadata": {},
   "outputs": [
    {
     "ename": "TypeError",
     "evalue": "__init__() missing 3 required positional arguments: 'a', 'b', and 'c'",
     "output_type": "error",
     "traceback": [
      "\u001b[1;31m---------------------------------------------------------------------------\u001b[0m",
      "\u001b[1;31mTypeError\u001b[0m                                 Traceback (most recent call last)",
      "\u001b[1;32m~\\AppData\\Local\\Temp\\ipykernel_28088\\2280306309.py\u001b[0m in \u001b[0;36m<module>\u001b[1;34m\u001b[0m\n\u001b[1;32m----> 1\u001b[1;33m \u001b[0ma\u001b[0m \u001b[1;33m=\u001b[0m \u001b[0mxyz1\u001b[0m\u001b[1;33m(\u001b[0m\u001b[1;33m)\u001b[0m\u001b[1;33m\u001b[0m\u001b[1;33m\u001b[0m\u001b[0m\n\u001b[0m",
      "\u001b[1;31mTypeError\u001b[0m: __init__() missing 3 required positional arguments: 'a', 'b', and 'c'"
     ]
    }
   ],
   "source": [
    "a = xyz1()"
   ]
  },
  {
   "cell_type": "code",
   "execution_count": null,
   "id": "f81bb2a4",
   "metadata": {},
   "outputs": [],
   "source": [
    "# Why above code is giving error, b'coz of inheritence"
   ]
  },
  {
   "cell_type": "code",
   "execution_count": 27,
   "id": "ebe94c74",
   "metadata": {},
   "outputs": [],
   "source": [
    "q = xyz1(2,3,4)"
   ]
  },
  {
   "cell_type": "code",
   "execution_count": 28,
   "id": "62190ca5",
   "metadata": {},
   "outputs": [
    {
     "name": "stdout",
     "output_type": "stream",
     "text": [
      "this is my test2 method of xyz class\n"
     ]
    }
   ],
   "source": [
    "q.test2()"
   ]
  },
  {
   "cell_type": "code",
   "execution_count": 40,
   "id": "76f1c26f",
   "metadata": {},
   "outputs": [],
   "source": [
    "class xyz1(xyz):\n",
    "    \n",
    "    def test(self):\n",
    "        print(\"This test method is from xyz1 class\")"
   ]
  },
  {
   "cell_type": "code",
   "execution_count": 41,
   "id": "7f2bf5cb",
   "metadata": {},
   "outputs": [],
   "source": [
    "g =xyz1(4,5,6)"
   ]
  },
  {
   "cell_type": "code",
   "execution_count": 42,
   "id": "74b8f5dc",
   "metadata": {},
   "outputs": [
    {
     "name": "stdout",
     "output_type": "stream",
     "text": [
      "This test method is from xyz1 class\n"
     ]
    }
   ],
   "source": [
    "g.test()"
   ]
  },
  {
   "cell_type": "code",
   "execution_count": 74,
   "id": "10674250",
   "metadata": {},
   "outputs": [],
   "source": [
    "# another concept\n",
    "class xyz():\n",
    "    def __init__(self,a,b,c):\n",
    "        self.a = a\n",
    "        self.b = b\n",
    "        self.c = c\n",
    "    def test(self):\n",
    "        print(\"this is method of xyz class\")\n",
    "\n",
    "class xyz1:\n",
    "    def __init__(self, p,q,v):\n",
    "        self.p = p\n",
    "        self.v= v\n",
    "        self.q = q\n",
    "        print(f'p:{p} and q:{q} and v:{v}')\n",
    "    def test1(self):\n",
    "        print(\"this is test1 metd from class xyz1\")\n",
    "        \n",
    "class child(xyz,xyz1):\n",
    "    pass\n"
   ]
  },
  {
   "cell_type": "code",
   "execution_count": 44,
   "id": "f4f5a2c8",
   "metadata": {},
   "outputs": [],
   "source": [
    "n = child(2,3,4)\n"
   ]
  },
  {
   "cell_type": "code",
   "execution_count": 45,
   "id": "df54586a",
   "metadata": {},
   "outputs": [
    {
     "name": "stdout",
     "output_type": "stream",
     "text": [
      "this is method of xyz class\n"
     ]
    }
   ],
   "source": [
    "n.test()"
   ]
  },
  {
   "cell_type": "code",
   "execution_count": 46,
   "id": "617de84b",
   "metadata": {},
   "outputs": [
    {
     "name": "stdout",
     "output_type": "stream",
     "text": [
      "this is test1 metd from class xyz1\n"
     ]
    }
   ],
   "source": [
    "n.test1()"
   ]
  },
  {
   "cell_type": "code",
   "execution_count": 47,
   "id": "16016af1",
   "metadata": {},
   "outputs": [
    {
     "data": {
      "text/plain": [
       "2"
      ]
     },
     "execution_count": 47,
     "metadata": {},
     "output_type": "execute_result"
    }
   ],
   "source": [
    "n.a"
   ]
  },
  {
   "cell_type": "code",
   "execution_count": 48,
   "id": "68cdae3c",
   "metadata": {},
   "outputs": [
    {
     "ename": "AttributeError",
     "evalue": "'child' object has no attribute 'p'",
     "output_type": "error",
     "traceback": [
      "\u001b[1;31m---------------------------------------------------------------------------\u001b[0m",
      "\u001b[1;31mAttributeError\u001b[0m                            Traceback (most recent call last)",
      "\u001b[1;32m~\\AppData\\Local\\Temp\\ipykernel_28088\\1706759453.py\u001b[0m in \u001b[0;36m<module>\u001b[1;34m\u001b[0m\n\u001b[1;32m----> 1\u001b[1;33m \u001b[0mn\u001b[0m\u001b[1;33m.\u001b[0m\u001b[0mp\u001b[0m\u001b[1;33m\u001b[0m\u001b[1;33m\u001b[0m\u001b[0m\n\u001b[0m",
      "\u001b[1;31mAttributeError\u001b[0m: 'child' object has no attribute 'p'"
     ]
    }
   ],
   "source": [
    "n.p"
   ]
  },
  {
   "cell_type": "code",
   "execution_count": 49,
   "id": "45dfed22",
   "metadata": {},
   "outputs": [],
   "source": [
    "# lt's try how to inherit all variables from all parent class, by default all methods are inherited\n"
   ]
  },
  {
   "cell_type": "code",
   "execution_count": 55,
   "id": "0b4ee7c4",
   "metadata": {},
   "outputs": [],
   "source": [
    "class child(xyz1,xyz):\n",
    "    def __init__(self, *args):\n",
    "        xyz.__init__(self,*args)\n",
    "        xyz1.__init__(self, *args)\n",
    "        "
   ]
  },
  {
   "cell_type": "code",
   "execution_count": 59,
   "id": "12a85969",
   "metadata": {},
   "outputs": [
    {
     "data": {
      "text/plain": [
       "6"
      ]
     },
     "execution_count": 59,
     "metadata": {},
     "output_type": "execute_result"
    }
   ],
   "source": [
    "n = child(4,5,6)\n",
    "n.v"
   ]
  },
  {
   "cell_type": "code",
   "execution_count": 77,
   "id": "3b853147",
   "metadata": {},
   "outputs": [],
   "source": [
    "class child(xyz1,xyz):\n",
    "    def __init__(self, *args, **kwargs):\n",
    "        xyz.__init__(self,*args)\n",
    "        xyz1.__init__(self, **kwargs)"
   ]
  },
  {
   "cell_type": "code",
   "execution_count": 66,
   "id": "7c53cdf0",
   "metadata": {},
   "outputs": [
    {
     "ename": "TypeError",
     "evalue": "__init__() missing 3 required positional arguments: 'p', 'q', and 'v'",
     "output_type": "error",
     "traceback": [
      "\u001b[1;31m---------------------------------------------------------------------------\u001b[0m",
      "\u001b[1;31mTypeError\u001b[0m                                 Traceback (most recent call last)",
      "\u001b[1;32m~\\AppData\\Local\\Temp\\ipykernel_28088\\2393528941.py\u001b[0m in \u001b[0;36m<module>\u001b[1;34m\u001b[0m\n\u001b[1;32m----> 1\u001b[1;33m \u001b[0mn\u001b[0m \u001b[1;33m=\u001b[0m \u001b[0mchild\u001b[0m\u001b[1;33m(\u001b[0m\u001b[1;36m4\u001b[0m\u001b[1;33m,\u001b[0m\u001b[1;36m5\u001b[0m\u001b[1;33m,\u001b[0m\u001b[1;36m6\u001b[0m\u001b[1;33m)\u001b[0m\u001b[1;33m\u001b[0m\u001b[1;33m\u001b[0m\u001b[0m\n\u001b[0m",
      "\u001b[1;32m~\\AppData\\Local\\Temp\\ipykernel_28088\\1044741537.py\u001b[0m in \u001b[0;36m__init__\u001b[1;34m(self, *args, **kwargs)\u001b[0m\n\u001b[0;32m      2\u001b[0m     \u001b[1;32mdef\u001b[0m \u001b[0m__init__\u001b[0m\u001b[1;33m(\u001b[0m\u001b[0mself\u001b[0m\u001b[1;33m,\u001b[0m \u001b[1;33m*\u001b[0m\u001b[0margs\u001b[0m\u001b[1;33m,\u001b[0m \u001b[1;33m**\u001b[0m\u001b[0mkwargs\u001b[0m\u001b[1;33m)\u001b[0m\u001b[1;33m:\u001b[0m\u001b[1;33m\u001b[0m\u001b[1;33m\u001b[0m\u001b[0m\n\u001b[0;32m      3\u001b[0m         \u001b[0mxyz\u001b[0m\u001b[1;33m.\u001b[0m\u001b[0m__init__\u001b[0m\u001b[1;33m(\u001b[0m\u001b[0mself\u001b[0m\u001b[1;33m,\u001b[0m\u001b[1;33m*\u001b[0m\u001b[0margs\u001b[0m\u001b[1;33m)\u001b[0m\u001b[1;33m\u001b[0m\u001b[1;33m\u001b[0m\u001b[0m\n\u001b[1;32m----> 4\u001b[1;33m         \u001b[0mxyz1\u001b[0m\u001b[1;33m.\u001b[0m\u001b[0m__init__\u001b[0m\u001b[1;33m(\u001b[0m\u001b[0mself\u001b[0m\u001b[1;33m,\u001b[0m \u001b[1;33m*\u001b[0m\u001b[0mkwargs\u001b[0m\u001b[1;33m)\u001b[0m\u001b[1;33m\u001b[0m\u001b[1;33m\u001b[0m\u001b[0m\n\u001b[0m",
      "\u001b[1;31mTypeError\u001b[0m: __init__() missing 3 required positional arguments: 'p', 'q', and 'v'"
     ]
    }
   ],
   "source": [
    "n = child(4,5,6)"
   ]
  },
  {
   "cell_type": "code",
   "execution_count": 78,
   "id": "ad87af9f",
   "metadata": {},
   "outputs": [
    {
     "name": "stdout",
     "output_type": "stream",
     "text": [
      "p:3 and q:9 and v:7\n"
     ]
    }
   ],
   "source": [
    "n = child(4,5,6, p = 3,q=9,v=7)"
   ]
  },
  {
   "cell_type": "code",
   "execution_count": 79,
   "id": "2df2ff11",
   "metadata": {},
   "outputs": [
    {
     "data": {
      "text/plain": [
       "9"
      ]
     },
     "execution_count": 79,
     "metadata": {},
     "output_type": "execute_result"
    }
   ],
   "source": [
    "n.q"
   ]
  },
  {
   "cell_type": "code",
   "execution_count": 64,
   "id": "ccd1ccda",
   "metadata": {},
   "outputs": [
    {
     "data": {
      "text/plain": [
       "'p'"
      ]
     },
     "execution_count": 64,
     "metadata": {},
     "output_type": "execute_result"
    }
   ],
   "source": [
    "n.p\n"
   ]
  },
  {
   "cell_type": "code",
   "execution_count": null,
   "id": "aba19829",
   "metadata": {},
   "outputs": [],
   "source": []
  }
 ],
 "metadata": {
  "kernelspec": {
   "display_name": "Python 3 (ipykernel)",
   "language": "python",
   "name": "python3"
  },
  "language_info": {
   "codemirror_mode": {
    "name": "ipython",
    "version": 3
   },
   "file_extension": ".py",
   "mimetype": "text/x-python",
   "name": "python",
   "nbconvert_exporter": "python",
   "pygments_lexer": "ipython3",
   "version": "3.8.16"
  }
 },
 "nbformat": 4,
 "nbformat_minor": 5
}
