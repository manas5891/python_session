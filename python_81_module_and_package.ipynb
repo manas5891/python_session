{
 "cells": [
  {
   "cell_type": "code",
   "execution_count": 1,
   "id": "97d04867",
   "metadata": {},
   "outputs": [],
   "source": [
    "import os"
   ]
  },
  {
   "cell_type": "code",
   "execution_count": 2,
   "id": "bed1309c",
   "metadata": {},
   "outputs": [
    {
     "data": {
      "text/plain": [
       "8"
      ]
     },
     "execution_count": 2,
     "metadata": {},
     "output_type": "execute_result"
    }
   ],
   "source": [
    "os.cpu_count()"
   ]
  },
  {
   "cell_type": "code",
   "execution_count": 2,
   "id": "9bbe15ba",
   "metadata": {},
   "outputs": [],
   "source": [
    "# what is module, collection of code in one file\n",
    "# \n",
    "import test"
   ]
  },
  {
   "cell_type": "code",
   "execution_count": 3,
   "id": "7e19a8b3",
   "metadata": {},
   "outputs": [
    {
     "data": {
      "text/plain": [
       "20"
      ]
     },
     "execution_count": 3,
     "metadata": {},
     "output_type": "execute_result"
    }
   ],
   "source": [
    "test.test2(4,5)"
   ]
  },
  {
   "cell_type": "code",
   "execution_count": 4,
   "id": "45a8c560",
   "metadata": {},
   "outputs": [
    {
     "data": {
      "text/plain": [
       "9"
      ]
     },
     "execution_count": 4,
     "metadata": {},
     "output_type": "execute_result"
    }
   ],
   "source": [
    "test.test1(4,5)"
   ]
  },
  {
   "cell_type": "code",
   "execution_count": 5,
   "id": "aa035f41",
   "metadata": {},
   "outputs": [],
   "source": [
    "# WE can also import as follows:\n",
    "from test import test1\n"
   ]
  },
  {
   "cell_type": "code",
   "execution_count": 6,
   "id": "63558d1e",
   "metadata": {},
   "outputs": [],
   "source": [
    "from test import *"
   ]
  },
  {
   "cell_type": "code",
   "execution_count": 7,
   "id": "39252b54",
   "metadata": {},
   "outputs": [],
   "source": [
    "# Doc string can be give with 3 quote symbol \"\"\"\"\"\""
   ]
  },
  {
   "cell_type": "code",
   "execution_count": 8,
   "id": "64a6104b",
   "metadata": {},
   "outputs": [],
   "source": [
    "# https://docs.python.org/3/py-modindex.html"
   ]
  },
  {
   "cell_type": "code",
   "execution_count": 10,
   "id": "7d88f401",
   "metadata": {},
   "outputs": [
    {
     "data": {
      "text/plain": [
       "<_io.TextIOWrapper name='my_new_module' mode='w' encoding='cp1252'>"
      ]
     },
     "execution_count": 10,
     "metadata": {},
     "output_type": "execute_result"
    }
   ],
   "source": [
    "open(\"my_new_module\",\"w\")"
   ]
  },
  {
   "cell_type": "code",
   "execution_count": 3,
   "id": "466953be",
   "metadata": {},
   "outputs": [],
   "source": [
    "import my_new_module as mne"
   ]
  },
  {
   "cell_type": "code",
   "execution_count": 4,
   "id": "c27fe280",
   "metadata": {},
   "outputs": [
    {
     "data": {
      "text/plain": [
       "['datascience', 'java']"
      ]
     },
     "execution_count": 4,
     "metadata": {},
     "output_type": "execute_result"
    }
   ],
   "source": [
    "mne.get_course()"
   ]
  },
  {
   "cell_type": "code",
   "execution_count": 5,
   "id": "ab4040d2",
   "metadata": {},
   "outputs": [
    {
     "data": {
      "text/plain": [
       "'greetings from iNeuron'"
      ]
     },
     "execution_count": 5,
     "metadata": {},
     "output_type": "execute_result"
    }
   ],
   "source": [
    "mne.greetings()"
   ]
  },
  {
   "cell_type": "code",
   "execution_count": null,
   "id": "b1fc4729",
   "metadata": {},
   "outputs": [],
   "source": [
    "# Package...\n"
   ]
  }
 ],
 "metadata": {
  "kernelspec": {
   "display_name": "Python 3 (ipykernel)",
   "language": "python",
   "name": "python3"
  },
  "language_info": {
   "codemirror_mode": {
    "name": "ipython",
    "version": 3
   },
   "file_extension": ".py",
   "mimetype": "text/x-python",
   "name": "python",
   "nbconvert_exporter": "python",
   "pygments_lexer": "ipython3",
   "version": "3.8.16"
  }
 },
 "nbformat": 4,
 "nbformat_minor": 5
}
