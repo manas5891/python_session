{
 "cells": [
  {
   "cell_type": "code",
   "execution_count": 1,
   "id": "cc7f489e",
   "metadata": {},
   "outputs": [],
   "source": [
    "a = 10\n"
   ]
  },
  {
   "cell_type": "code",
   "execution_count": 4,
   "id": "a90e81c5",
   "metadata": {},
   "outputs": [
    {
     "name": "stdout",
     "output_type": "stream",
     "text": [
      "a is greater than 10\n"
     ]
    }
   ],
   "source": [
    "if a < 10 :\n",
    "    print(\"a is less than 10\")\n",
    "else:\n",
    "    print(\"a is greater than 10\")"
   ]
  },
  {
   "cell_type": "code",
   "execution_count": 5,
   "id": "f1fa5857",
   "metadata": {},
   "outputs": [
    {
     "name": "stdout",
     "output_type": "stream",
     "text": [
      "1\n"
     ]
    },
    {
     "ename": "TypeError",
     "evalue": "unsupported operand type(s) for &: 'int' and 'float'",
     "output_type": "error",
     "traceback": [
      "\u001b[1;31m---------------------------------------------------------------------------\u001b[0m",
      "\u001b[1;31mTypeError\u001b[0m                                 Traceback (most recent call last)",
      "\u001b[1;32m~\\AppData\\Local\\Temp\\ipykernel_18708\\3318974092.py\u001b[0m in \u001b[0;36m<module>\u001b[1;34m\u001b[0m\n\u001b[0;32m      1\u001b[0m \u001b[0mstudy\u001b[0m \u001b[1;33m=\u001b[0m \u001b[0mfloat\u001b[0m\u001b[1;33m(\u001b[0m\u001b[0minput\u001b[0m\u001b[1;33m(\u001b[0m\u001b[1;33m)\u001b[0m\u001b[1;33m)\u001b[0m\u001b[1;33m\u001b[0m\u001b[1;33m\u001b[0m\u001b[0m\n\u001b[1;32m----> 2\u001b[1;33m \u001b[1;32mif\u001b[0m \u001b[0mstudy\u001b[0m \u001b[1;33m<\u001b[0m\u001b[1;36m1\u001b[0m \u001b[1;33m&\u001b[0m \u001b[0mstudy\u001b[0m \u001b[1;33m>\u001b[0m \u001b[1;36m0.5\u001b[0m \u001b[1;33m:\u001b[0m\u001b[1;33m\u001b[0m\u001b[1;33m\u001b[0m\u001b[0m\n\u001b[0m\u001b[0;32m      3\u001b[0m     \u001b[0mprint\u001b[0m\u001b[1;33m(\u001b[0m\u001b[1;34m'you may succedd'\u001b[0m\u001b[1;33m)\u001b[0m\u001b[1;33m\u001b[0m\u001b[1;33m\u001b[0m\u001b[0m\n\u001b[0;32m      4\u001b[0m \u001b[1;32melif\u001b[0m \u001b[0mstudy\u001b[0m \u001b[1;33m<\u001b[0m \u001b[1;36m6\u001b[0m \u001b[1;33m&\u001b[0m \u001b[0mstudy\u001b[0m \u001b[1;33m>\u001b[0m\u001b[1;36m1\u001b[0m\u001b[1;33m:\u001b[0m\u001b[1;33m\u001b[0m\u001b[1;33m\u001b[0m\u001b[0m\n\u001b[0;32m      5\u001b[0m     \u001b[0mprint\u001b[0m\u001b[1;33m(\u001b[0m\u001b[1;34m\"suceed\"\u001b[0m\u001b[1;33m)\u001b[0m\u001b[1;33m\u001b[0m\u001b[1;33m\u001b[0m\u001b[0m\n",
      "\u001b[1;31mTypeError\u001b[0m: unsupported operand type(s) for &: 'int' and 'float'"
     ]
    }
   ],
   "source": [
    "study = float(input())\n",
    "if study <1 & study > 0.5 :\n",
    "    print('you may succedd')\n",
    "elif study < 6 & study >1:\n",
    "    print(\"suceed\")\n",
    "else :\n",
    "    print('fail')"
   ]
  },
  {
   "cell_type": "code",
   "execution_count": 6,
   "id": "f9cc5f5f",
   "metadata": {},
   "outputs": [
    {
     "name": "stdout",
     "output_type": "stream",
     "text": [
      "1\n",
      "fail\n"
     ]
    }
   ],
   "source": [
    "study = float(input())\n",
    "if study <1 and study > 0.5 :\n",
    "    print('you may succedd')\n",
    "elif study < 6 and study >1:\n",
    "    print(\"suceed\")\n",
    "else :\n",
    "    print('fail')"
   ]
  },
  {
   "cell_type": "code",
   "execution_count": 7,
   "id": "bd01759c",
   "metadata": {},
   "outputs": [
    {
     "name": "stdout",
     "output_type": "stream",
     "text": [
      "1\n",
      "2\n",
      "3\n",
      "4\n",
      "5\n"
     ]
    }
   ],
   "source": [
    "# for loop\n",
    "l = [1,2,3,4,5]\n",
    "for i in l:\n",
    "    print(i)"
   ]
  },
  {
   "cell_type": "code",
   "execution_count": 9,
   "id": "ed7d6850",
   "metadata": {},
   "outputs": [
    {
     "name": "stdout",
     "output_type": "stream",
     "text": [
      "s\n",
      "u\n",
      "d\n",
      "h\n"
     ]
    }
   ],
   "source": [
    "s = 'sudh'\n",
    "for i in s:\n",
    "    print(i)"
   ]
  },
  {
   "cell_type": "code",
   "execution_count": 10,
   "id": "c5e4d52a",
   "metadata": {},
   "outputs": [
    {
     "name": "stdout",
     "output_type": "stream",
     "text": [
      "1\n",
      "2\n",
      "3\n",
      "4\n",
      "5\n"
     ]
    }
   ],
   "source": [
    "t = (1,2,3,4,5)\n",
    "for i in t:\n",
    "    print(i)"
   ]
  },
  {
   "cell_type": "code",
   "execution_count": 11,
   "id": "249cd9b7",
   "metadata": {},
   "outputs": [
    {
     "data": {
      "text/plain": [
       "range(0, 4)"
      ]
     },
     "execution_count": 11,
     "metadata": {},
     "output_type": "execute_result"
    }
   ],
   "source": [
    "# in python we have for else state ment too\n",
    "l = [2,4,12,12,12,'1234']\n",
    "range(0,4)"
   ]
  },
  {
   "cell_type": "code",
   "execution_count": 13,
   "id": "b8d7aafa",
   "metadata": {},
   "outputs": [
    {
     "name": "stdout",
     "output_type": "stream",
     "text": [
      "indx:0 element:2\n",
      "indx:1 element:4\n",
      "indx:2 element:12\n",
      "indx:3 element:12\n",
      "indx:4 element:12\n",
      "indx:5 element:1234\n"
     ]
    }
   ],
   "source": [
    "for i in range(len(l)):\n",
    "    print(f'indx:{i} element:{l[i]}')"
   ]
  },
  {
   "cell_type": "code",
   "execution_count": 14,
   "id": "e384419a",
   "metadata": {},
   "outputs": [
    {
     "name": "stdout",
     "output_type": "stream",
     "text": [
      "(0, 2)\n",
      "(1, 4)\n",
      "(2, 12)\n",
      "(3, 12)\n",
      "(4, 12)\n",
      "(5, '1234')\n"
     ]
    }
   ],
   "source": [
    "for i in enumerate(l):\n",
    "    print(i)"
   ]
  },
  {
   "cell_type": "code",
   "execution_count": null,
   "id": "eeddc01b",
   "metadata": {},
   "outputs": [],
   "source": []
  }
 ],
 "metadata": {
  "kernelspec": {
   "display_name": "Python 3 (ipykernel)",
   "language": "python",
   "name": "python3"
  },
  "language_info": {
   "codemirror_mode": {
    "name": "ipython",
    "version": 3
   },
   "file_extension": ".py",
   "mimetype": "text/x-python",
   "name": "python",
   "nbconvert_exporter": "python",
   "pygments_lexer": "ipython3",
   "version": "3.8.16"
  }
 },
 "nbformat": 4,
 "nbformat_minor": 5
}
