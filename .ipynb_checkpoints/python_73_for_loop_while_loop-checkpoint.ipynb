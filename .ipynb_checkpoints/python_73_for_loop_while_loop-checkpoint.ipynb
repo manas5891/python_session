{
 "cells": [
  {
   "cell_type": "code",
   "execution_count": 1,
   "id": "807a0a89",
   "metadata": {},
   "outputs": [
    {
     "name": "stdout",
     "output_type": "stream",
     "text": [
      "name\n",
      "emailId\n",
      "phoneNo\n",
      "address\n"
     ]
    }
   ],
   "source": [
    "l = [\"name\", \"emailId\", \"phoneNo\", \"address\"]\n",
    "for i in l:\n",
    "    print(i)"
   ]
  },
  {
   "cell_type": "code",
   "execution_count": 2,
   "id": "4eda1fb2",
   "metadata": {},
   "outputs": [
    {
     "name": "stdout",
     "output_type": "stream",
     "text": [
      "name\n",
      "emailId\n",
      "phoneNo\n",
      "address\n",
      "if for loop is not going to complete itself then it will come to else\n"
     ]
    }
   ],
   "source": [
    "for i in l:\n",
    "    print(i)\n",
    "else:\n",
    "    print(\"if for loop is  going to complete itself then it will come to else\")"
   ]
  },
  {
   "cell_type": "code",
   "execution_count": null,
   "id": "9160ca68",
   "metadata": {},
   "outputs": [],
   "source": []
  }
 ],
 "metadata": {
  "kernelspec": {
   "display_name": "Python 3 (ipykernel)",
   "language": "python",
   "name": "python3"
  },
  "language_info": {
   "codemirror_mode": {
    "name": "ipython",
    "version": 3
   },
   "file_extension": ".py",
   "mimetype": "text/x-python",
   "name": "python",
   "nbconvert_exporter": "python",
   "pygments_lexer": "ipython3",
   "version": "3.8.16"
  }
 },
 "nbformat": 4,
 "nbformat_minor": 5
}
