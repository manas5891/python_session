{
 "cells": [
  {
   "cell_type": "code",
   "execution_count": 1,
   "id": "3fc67ca7",
   "metadata": {},
   "outputs": [],
   "source": [
    "f = open(\"test.txt\", \"w\")"
   ]
  },
  {
   "cell_type": "code",
   "execution_count": 2,
   "id": "29c681bd",
   "metadata": {},
   "outputs": [
    {
     "name": "stderr",
     "output_type": "stream",
     "text": [
      "'ls' is not recognized as an internal or external command,\n",
      "operable program or batch file.\n"
     ]
    }
   ],
   "source": [
    "!ls"
   ]
  },
  {
   "cell_type": "code",
   "execution_count": 3,
   "id": "3c5533a2",
   "metadata": {},
   "outputs": [
    {
     "name": "stdout",
     "output_type": "stream",
     "text": [
      " Volume in drive C is Windows-SSD\n",
      " Volume Serial Number is 0CC8-B853\n",
      "\n",
      " Directory of C:\\Users\\Manas\\Documents\\GitHub\\python_session\n",
      "\n",
      "02-09-2023  20:22    <DIR>          .\n",
      "31-08-2023  22:15    <DIR>          ..\n",
      "02-09-2023  20:18    <DIR>          .ipynb_checkpoints\n",
      "02-09-2023  09:58            24,351 python_71_tuple_set_dict.ipynb\n",
      "02-09-2023  10:37             6,243 python_72_if_else_for_loop.ipynb\n",
      "02-09-2023  11:13             4,718 python_73_for_loop_while_loop.ipynb\n",
      "02-09-2023  11:33             3,074 python_74_program_in_loops.ipynb\n",
      "02-09-2023  16:48            24,746 python_75_and_76_part1_and_part2.ipynb\n",
      "02-09-2023  20:22               629 python_77_filesystem.ipynb\n",
      "02-09-2023  20:18             6,272 python_77_iterator_generator.ipynb\n",
      "01-09-2023  07:39            12,734 python_basic_69.ipynb\n",
      "02-09-2023  07:23            29,226 python_basic_70_string_list_indexing.ipynb\n",
      "02-09-2023  20:22                 0 test.txt\n",
      "              10 File(s)        111,993 bytes\n",
      "               3 Dir(s)  147,340,218,368 bytes free\n"
     ]
    }
   ],
   "source": [
    "%ls"
   ]
  },
  {
   "cell_type": "code",
   "execution_count": 4,
   "id": "079cfed5",
   "metadata": {},
   "outputs": [
    {
     "data": {
      "text/plain": [
       "34"
      ]
     },
     "execution_count": 4,
     "metadata": {},
     "output_type": "execute_result"
    }
   ],
   "source": [
    "f.write(\"This is my first file operation...\")"
   ]
  },
  {
   "cell_type": "code",
   "execution_count": 5,
   "id": "597d7c9f",
   "metadata": {},
   "outputs": [
    {
     "name": "stdout",
     "output_type": "stream",
     "text": [
      " Volume in drive C is Windows-SSD\n",
      " Volume Serial Number is 0CC8-B853\n",
      "\n",
      " Directory of C:\\Users\\Manas\\Documents\\GitHub\\python_session\n",
      "\n",
      "02-09-2023  20:22    <DIR>          .\n",
      "31-08-2023  22:15    <DIR>          ..\n",
      "02-09-2023  20:18    <DIR>          .ipynb_checkpoints\n",
      "02-09-2023  09:58            24,351 python_71_tuple_set_dict.ipynb\n",
      "02-09-2023  10:37             6,243 python_72_if_else_for_loop.ipynb\n",
      "02-09-2023  11:13             4,718 python_73_for_loop_while_loop.ipynb\n",
      "02-09-2023  11:33             3,074 python_74_program_in_loops.ipynb\n",
      "02-09-2023  16:48            24,746 python_75_and_76_part1_and_part2.ipynb\n",
      "02-09-2023  20:22               629 python_77_filesystem.ipynb\n",
      "02-09-2023  20:18             6,272 python_77_iterator_generator.ipynb\n",
      "01-09-2023  07:39            12,734 python_basic_69.ipynb\n",
      "02-09-2023  07:23            29,226 python_basic_70_string_list_indexing.ipynb\n",
      "02-09-2023  20:22                 0 test.txt\n",
      "              10 File(s)        111,993 bytes\n",
      "               3 Dir(s)  147,341,852,672 bytes free\n"
     ]
    }
   ],
   "source": [
    "%ls\n"
   ]
  },
  {
   "cell_type": "code",
   "execution_count": 6,
   "id": "49113052",
   "metadata": {},
   "outputs": [],
   "source": [
    "f.close()"
   ]
  },
  {
   "cell_type": "code",
   "execution_count": 7,
   "id": "7e82492d",
   "metadata": {},
   "outputs": [
    {
     "name": "stdout",
     "output_type": "stream",
     "text": [
      " Volume in drive C is Windows-SSD\n",
      " Volume Serial Number is 0CC8-B853\n",
      "\n",
      " Directory of C:\\Users\\Manas\\Documents\\GitHub\\python_session\n",
      "\n",
      "02-09-2023  20:22    <DIR>          .\n",
      "31-08-2023  22:15    <DIR>          ..\n",
      "02-09-2023  20:18    <DIR>          .ipynb_checkpoints\n",
      "02-09-2023  09:58            24,351 python_71_tuple_set_dict.ipynb\n",
      "02-09-2023  10:37             6,243 python_72_if_else_for_loop.ipynb\n",
      "02-09-2023  11:13             4,718 python_73_for_loop_while_loop.ipynb\n",
      "02-09-2023  11:33             3,074 python_74_program_in_loops.ipynb\n",
      "02-09-2023  16:48            24,746 python_75_and_76_part1_and_part2.ipynb\n",
      "02-09-2023  20:22               629 python_77_filesystem.ipynb\n",
      "02-09-2023  20:18             6,272 python_77_iterator_generator.ipynb\n",
      "01-09-2023  07:39            12,734 python_basic_69.ipynb\n",
      "02-09-2023  07:23            29,226 python_basic_70_string_list_indexing.ipynb\n",
      "02-09-2023  20:24                34 test.txt\n",
      "              10 File(s)        112,027 bytes\n",
      "               3 Dir(s)  147,341,766,656 bytes free\n"
     ]
    }
   ],
   "source": [
    "%ls"
   ]
  },
  {
   "cell_type": "code",
   "execution_count": 8,
   "id": "09a81da7",
   "metadata": {},
   "outputs": [
    {
     "name": "stdout",
     "output_type": "stream",
     "text": [
      "Writing test3.txt\n"
     ]
    }
   ],
   "source": [
    "%%writefile test3.txt\n",
    "This is my data which i want to store"
   ]
  },
  {
   "cell_type": "code",
   "execution_count": 9,
   "id": "a3033c85",
   "metadata": {},
   "outputs": [
    {
     "data": {
      "text/plain": [
       "'This is my data which i want to store\\n'"
      ]
     },
     "execution_count": 9,
     "metadata": {},
     "output_type": "execute_result"
    }
   ],
   "source": [
    "f = open(\"test3.txt\", \"r\")\n",
    "f.readline()"
   ]
  },
  {
   "cell_type": "code",
   "execution_count": 10,
   "id": "30a59b5a",
   "metadata": {},
   "outputs": [
    {
     "data": {
      "text/plain": [
       "''"
      ]
     },
     "execution_count": 10,
     "metadata": {},
     "output_type": "execute_result"
    }
   ],
   "source": [
    "f.read()"
   ]
  },
  {
   "cell_type": "code",
   "execution_count": 11,
   "id": "54149a68",
   "metadata": {},
   "outputs": [
    {
     "data": {
      "text/plain": [
       "''"
      ]
     },
     "execution_count": 11,
     "metadata": {},
     "output_type": "execute_result"
    }
   ],
   "source": [
    "f.read()"
   ]
  },
  {
   "cell_type": "code",
   "execution_count": 13,
   "id": "519c67ab",
   "metadata": {},
   "outputs": [
    {
     "data": {
      "text/plain": [
       "'This is my data which i want to store\\n'"
      ]
     },
     "execution_count": 13,
     "metadata": {},
     "output_type": "execute_result"
    }
   ],
   "source": [
    "# Reseting the file cursor\n",
    "f.seek(0)\n",
    "f.read()"
   ]
  },
  {
   "cell_type": "code",
   "execution_count": 14,
   "id": "d7d5b705",
   "metadata": {},
   "outputs": [
    {
     "data": {
      "text/plain": [
       "'is my data which i want to store\\n'"
      ]
     },
     "execution_count": 14,
     "metadata": {},
     "output_type": "execute_result"
    }
   ],
   "source": [
    "f.seek(5)\n",
    "f.read()"
   ]
  },
  {
   "cell_type": "code",
   "execution_count": 15,
   "id": "7ef43de6",
   "metadata": {},
   "outputs": [
    {
     "data": {
      "text/plain": [
       "39"
      ]
     },
     "execution_count": 15,
     "metadata": {},
     "output_type": "execute_result"
    }
   ],
   "source": [
    "f.tell()"
   ]
  },
  {
   "cell_type": "code",
   "execution_count": 17,
   "id": "0f68b396",
   "metadata": {},
   "outputs": [
    {
     "data": {
      "text/plain": [
       "0"
      ]
     },
     "execution_count": 17,
     "metadata": {},
     "output_type": "execute_result"
    }
   ],
   "source": [
    "f.close()\n",
    "\n",
    "f = open(\"test3.txt\", \"r+\")\n",
    "\n",
    "f.tell()"
   ]
  },
  {
   "cell_type": "code",
   "execution_count": 18,
   "id": "6810f36b",
   "metadata": {},
   "outputs": [],
   "source": [
    "f.close()\n"
   ]
  },
  {
   "cell_type": "code",
   "execution_count": 29,
   "id": "340e55c9",
   "metadata": {},
   "outputs": [],
   "source": [
    "f = open(\"google.txt\", \"r+\")"
   ]
  },
  {
   "cell_type": "code",
   "execution_count": 23,
   "id": "53617f2c",
   "metadata": {},
   "outputs": [
    {
     "data": {
      "text/plain": [
       "498"
      ]
     },
     "execution_count": 23,
     "metadata": {},
     "output_type": "execute_result"
    }
   ],
   "source": [
    "f.write(\"\"\" Please don't skip this 1-minute read. I'm sorry to interrupt, but our fundraiser won’t last long. This Saturday, 2 September, I humbly request you to reflect on the number of times you visited Wikipedia in the past year, the value you got from it, and whether you're able to contribute ₹ 25. If you can, kindly join the 2% of readers who donate. If everyone reading this right now gave ₹ 25, we'd reach our goal in a couple of hours.\n",
    "\n",
    "When I set up the Wikimedia Foundation as a nonprofit to host \"\"\")"
   ]
  },
  {
   "cell_type": "code",
   "execution_count": 30,
   "id": "25942132",
   "metadata": {},
   "outputs": [
    {
     "name": "stdout",
     "output_type": "stream",
     "text": [
      " Please don't skip this 1-minute read. I'm sorry to interrupt, but our fundraiser wonâ€™t last long. This Saturday, 2 September, I humbly request you to reflect on the number of times you visited Wikipedia in the past year, the value you got from it, and whether you're able to contribute â‚¹ 25. If you can, kindly join the 2% of readers who donate. If everyone reading this right now gave â‚¹ 25, we'd reach our goal in a couple of hours.\n",
      " \n",
      " When I set up the Wikimedia Foundation as a nonprofit to host  "
     ]
    }
   ],
   "source": [
    "for i in f:\n",
    "    print(i, end = \" \")"
   ]
  },
  {
   "cell_type": "code",
   "execution_count": 36,
   "id": "03e4b067",
   "metadata": {},
   "outputs": [],
   "source": [
    "### Writing list into a file\n",
    "f = open(\"test4.txt\", \"w+\")\n",
    "f.write(\"test\")\n",
    "l = [\"asdf\",\"asdf\",\"ndf\",\"asdfasdfdf\"]\n",
    "f.writelines(str(l))\n",
    "f.close()\n"
   ]
  },
  {
   "cell_type": "code",
   "execution_count": 35,
   "id": "63ce4787",
   "metadata": {},
   "outputs": [
    {
     "data": {
      "text/plain": [
       "'[3, 4, 7, 8]'"
      ]
     },
     "execution_count": 35,
     "metadata": {},
     "output_type": "execute_result"
    }
   ],
   "source": [
    "l = [3,4,7,8]\n",
    "str(l)"
   ]
  },
  {
   "cell_type": "code",
   "execution_count": 37,
   "id": "bfec10ef",
   "metadata": {},
   "outputs": [],
   "source": [
    "import os"
   ]
  },
  {
   "cell_type": "code",
   "execution_count": 38,
   "id": "f97f8005",
   "metadata": {},
   "outputs": [],
   "source": [
    "os.remove(\"google.txt\")"
   ]
  },
  {
   "cell_type": "code",
   "execution_count": 39,
   "id": "d2f5fe4e",
   "metadata": {},
   "outputs": [
    {
     "data": {
      "text/plain": [
       "'C:\\\\Users\\\\Manas\\\\Documents\\\\GitHub\\\\python_session'"
      ]
     },
     "execution_count": 39,
     "metadata": {},
     "output_type": "execute_result"
    }
   ],
   "source": [
    "os.getcwd()"
   ]
  },
  {
   "cell_type": "code",
   "execution_count": 40,
   "id": "8b78381d",
   "metadata": {},
   "outputs": [
    {
     "data": {
      "text/plain": [
       "['.git',\n",
       " '.ipynb_checkpoints',\n",
       " 'python_71_tuple_set_dict.ipynb',\n",
       " 'python_72_if_else_for_loop.ipynb',\n",
       " 'python_73_for_loop_while_loop.ipynb',\n",
       " 'python_74_program_in_loops.ipynb',\n",
       " 'python_75_and_76_part1_and_part2.ipynb',\n",
       " 'python_77_filesystem.ipynb',\n",
       " 'python_77_iterator_generator.ipynb',\n",
       " 'python_basic_69.ipynb',\n",
       " 'python_basic_70_string_list_indexing.ipynb',\n",
       " 'test.txt',\n",
       " 'test3.txt',\n",
       " 'test4',\n",
       " 'test4.txt']"
      ]
     },
     "execution_count": 40,
     "metadata": {},
     "output_type": "execute_result"
    }
   ],
   "source": [
    "os.listdir()"
   ]
  }
 ],
 "metadata": {
  "kernelspec": {
   "display_name": "Python 3 (ipykernel)",
   "language": "python",
   "name": "python3"
  },
  "language_info": {
   "codemirror_mode": {
    "name": "ipython",
    "version": 3
   },
   "file_extension": ".py",
   "mimetype": "text/x-python",
   "name": "python",
   "nbconvert_exporter": "python",
   "pygments_lexer": "ipython3",
   "version": "3.8.16"
  }
 },
 "nbformat": 4,
 "nbformat_minor": 5
}
